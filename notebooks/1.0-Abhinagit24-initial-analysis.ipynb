{
 "cells": [
  {
   "cell_type": "markdown",
   "id": "3c5011f1",
   "metadata": {},
   "source": [
    "#  Fake news detection\n",
    "   <p>This is a rough general analysis on the dataset, done inorder to get an overall  understanding of the processes required and to get an idea on choosing the right path for the analysis. I used common techniques of NLP inorder to vectorize and understand the word distribution in the text involved. tokenization, removing stop words, lemmatization and stemming are done. For the model part, a pipeline is used for fitting the training data on TfidfVectorizer and knn algorithm. A test accuracy of Test Accuracy: 0.851 is obtained.  </p>\n",
    "   \n",
    "   <p>For further analysis, techniques like latent dirichlet allocation, gridsearch or randomsearch, other ML algorithms, SMOTE, and so on.</p>\n",
    "\n",
    "## Loading the data"
   ]
  },
  {
   "cell_type": "code",
   "execution_count": null,
   "id": "6c37bc2a",
   "metadata": {},
   "outputs": [],
   "source": [
    "# importing the libraries\n",
    "import pandas as pd\n",
    "import numpy as np\n",
    "\n",
    "# NLP\n",
    "import nltk\n",
    "import re\n",
    "from nltk import word_tokenize\n",
    "from nltk.corpus import stopwords\n",
    "import string\n",
    "from nltk.stem.wordnet import WordNetLemmatizer\n",
    "from nltk.stem.porter import PorterStemmer\n",
    "\n",
    "# BoW\n",
    "from sklearn.feature_extraction.text import TfidfVectorizer\n",
    "\n",
    "# model\n",
    "from sklearn.model_selection import train_test_split\n",
    "from sklearn.neighbors import KNeighborsClassifier\n",
    "from sklearn.pipeline import Pipeline"
   ]
  },
  {
   "cell_type": "code",
   "execution_count": null,
   "id": "eec71a7b",
   "metadata": {},
   "outputs": [],
   "source": [
    "# loading the data from the downloaded csv file\n",
    "data = pd.read_csv('Fake_Real.csv')"
   ]
  },
  {
   "cell_type": "code",
   "execution_count": null,
   "id": "7d49d246",
   "metadata": {},
   "outputs": [],
   "source": [
    "# checking the data\n",
    "data.info()"
   ]
  },
  {
   "cell_type": "code",
   "execution_count": null,
   "id": "1edc7831",
   "metadata": {},
   "outputs": [],
   "source": [
    "data.head()"
   ]
  },
  {
   "cell_type": "code",
   "execution_count": null,
   "id": "2418c135",
   "metadata": {},
   "outputs": [],
   "source": [
    "# dropping the redundant 'Unnamed: 0' column\n",
    "data.drop(columns='Unnamed: 0',inplace=True)"
   ]
  },
  {
   "cell_type": "code",
   "execution_count": null,
   "id": "fe79c364",
   "metadata": {},
   "outputs": [],
   "source": [
    "# printing the head to confirm the previous step\n",
    "data.head()"
   ]
  },
  {
   "cell_type": "code",
   "execution_count": null,
   "id": "4aaac65a",
   "metadata": {},
   "outputs": [],
   "source": [
    "# getting the counts of 'target' values\n",
    "data['target'].value_counts()"
   ]
  },
  {
   "cell_type": "code",
   "execution_count": null,
   "id": "ab4d4f10",
   "metadata": {},
   "outputs": [],
   "source": [
    "# getting the count of various 'subject' in the news dataset\n",
    "data['subject'].value_counts()"
   ]
  },
  {
   "cell_type": "code",
   "execution_count": null,
   "id": "f4fe9180",
   "metadata": {},
   "outputs": [],
   "source": [
    "# checking the shape of the dataset\n",
    "data.shape"
   ]
  },
  {
   "cell_type": "code",
   "execution_count": null,
   "id": "87429be1",
   "metadata": {},
   "outputs": [],
   "source": [
    "# dropping the na values\n",
    "data.dropna(inplace=True)"
   ]
  },
  {
   "cell_type": "code",
   "execution_count": null,
   "id": "beb2b003",
   "metadata": {},
   "outputs": [],
   "source": [
    "# checking the data to confirm the drop of na values\n",
    "data.shape"
   ]
  },
  {
   "cell_type": "markdown",
   "id": "65c53d97",
   "metadata": {},
   "source": [
    "## Data Cleaning and extraction"
   ]
  },
  {
   "cell_type": "code",
   "execution_count": null,
   "id": "fc66e1de",
   "metadata": {},
   "outputs": [],
   "source": [
    "# text data\n",
    "data.loc[0,'text'][:1000]"
   ]
  },
  {
   "cell_type": "code",
   "execution_count": null,
   "id": "a96f0b86",
   "metadata": {},
   "outputs": [],
   "source": [
    "# Tokenize and removing stop words\n",
    "stop_words = set(stopwords.words('english'))\n",
    "def clean_text(text):\n",
    "    # Tokenize\n",
    "    tokens = word_tokenize(text)\n",
    "    # remove non-alphabetical characters and stopwords\n",
    "    cleaned_tokens = [re.sub(r'[^a-zA-Z ]', '', text).lower() for text in tokens if text.lower() not in stop_words]\n",
    "    cleaned_tokens = [token for token in cleaned_tokens if ((token not in  set(string.punctuation)))]\n",
    "    # Lemmatize the tokens\n",
    "    lemmatizer = WordNetLemmatizer()\n",
    "    lemmatized_tokens = [lemmatizer.lemmatize(token) for token in cleaned_tokens]\n",
    "    # Join the tokens back into a string\n",
    "    processed_text = ' '.join(lemmatized_tokens)\n",
    "    #stem the tokens\n",
    "    porter = PorterStemmer()\n",
    "    cleaned_text = \" \".join(porter.stem(token) for token in processed_text.split())\n",
    "    return cleaned_text\n",
    "\n",
    "# Apply the function across the DataFrame\n",
    "data['cleaned_text'] = data['text'].apply(clean_text)\n",
    "\n",
    "#print(data['cleaned_text'][1])"
   ]
  },
  {
   "cell_type": "code",
   "execution_count": null,
   "id": "1d00ef15",
   "metadata": {},
   "outputs": [],
   "source": [
    "print(data['cleaned_text'][1])"
   ]
  },
  {
   "cell_type": "markdown",
   "id": "ea418ada",
   "metadata": {},
   "source": [
    "## Model building"
   ]
  },
  {
   "cell_type": "code",
   "execution_count": null,
   "id": "b45ac40f",
   "metadata": {},
   "outputs": [],
   "source": [
    "# defining the X and y \n",
    "X = data['cleaned_text'].values\n",
    "y = data['target'].values\n",
    "X.shape,y.shape\n",
    "# splitting data to train-test split\n",
    "X_train,X_test,y_train,y_test = train_test_split(X,y,test_size=0.3,random_state=22)"
   ]
  },
  {
   "cell_type": "code",
   "execution_count": null,
   "id": "5e011b8c",
   "metadata": {},
   "outputs": [],
   "source": [
    "# BoW model\n",
    "tfidf = TfidfVectorizer(strip_accents=None,\n",
    "                        lowercase=False,\n",
    "                        preprocessor=None)"
   ]
  },
  {
   "cell_type": "code",
   "execution_count": null,
   "id": "12d72687",
   "metadata": {},
   "outputs": [],
   "source": [
    "# defining the knn model\n",
    "knn = KNeighborsClassifier(n_neighbors = 3)"
   ]
  },
  {
   "cell_type": "code",
   "execution_count": null,
   "id": "597a3aa7",
   "metadata": {},
   "outputs": [],
   "source": [
    "# defining the pipeline to fit the training data\n",
    "knn_tfidf = Pipeline([\n",
    "    ('vect',tfidf),\n",
    "    ('knn',knn)\n",
    "])\n",
    "knn_tfidf.fit(X_train,y_train)"
   ]
  },
  {
   "cell_type": "code",
   "execution_count": null,
   "id": "92188938",
   "metadata": {},
   "outputs": [],
   "source": [
    "# printing the accuracy of the model\n",
    "print(f'Test Accuracy: {knn_tfidf.score(X_test, y_test):.3f}')"
   ]
  }
 ],
 "metadata": {
  "kernelspec": {
   "display_name": "Python 3 (ipykernel)",
   "language": "python",
   "name": "python3"
  },
  "language_info": {
   "codemirror_mode": {
    "name": "ipython",
    "version": 3
   },
   "file_extension": ".py",
   "mimetype": "text/x-python",
   "name": "python",
   "nbconvert_exporter": "python",
   "pygments_lexer": "ipython3",
   "version": "3.11.5"
  }
 },
 "nbformat": 4,
 "nbformat_minor": 5
}
